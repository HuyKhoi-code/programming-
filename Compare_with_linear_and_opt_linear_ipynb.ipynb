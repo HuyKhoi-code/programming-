{
  "nbformat": 4,
  "nbformat_minor": 0,
  "metadata": {
    "colab": {
      "name": "Compare with linear and opt linear.ipynb.ipynb",
      "provenance": [],
      "authorship_tag": "ABX9TyM4IqHFb92ullfame2x7ZEv",
      "include_colab_link": true
    },
    "kernelspec": {
      "name": "python3",
      "display_name": "Python 3"
    },
    "accelerator": "GPU"
  },
  "cells": [
    {
      "cell_type": "markdown",
      "metadata": {
        "id": "view-in-github",
        "colab_type": "text"
      },
      "source": [
        "<a href=\"https://colab.research.google.com/github/HuyKhoi-code/programming-/blob/master/Compare_with_linear_and_opt_linear_ipynb.ipynb\" target=\"_parent\"><img src=\"https://colab.research.google.com/assets/colab-badge.svg\" alt=\"Open In Colab\"/></a>"
      ]
    },
    {
      "cell_type": "code",
      "metadata": {
        "id": "7mWOe1QveV2W",
        "colab_type": "code",
        "outputId": "737649b1-1d00-4045-c738-7fc723788dd2",
        "colab": {
          "base_uri": "https://localhost:8080/",
          "height": 221
        }
      },
      "source": [
        "import random as rd\n",
        "# make arr datasets\n",
        "def datas():\n",
        "  a=[]\n",
        "  while (len(a)<10**6):\n",
        "    a.append(rd.randint(0,10**6))\n",
        "  return a\n",
        "# test number \n",
        "def TestNum():\n",
        "  x=[]\n",
        "  while (len(x)<10):\n",
        "    n=rd.randint(0,10**6)\n",
        "    if (n not in x):\n",
        "      x.append(n)\n",
        "  return x\n",
        "# Normal search\n",
        "def Search(a,x):\n",
        "  for i in range (len(a)):\n",
        "    if (a[i]==x):\n",
        "      return i\n",
        "  return -1\n",
        "# optimize search\n",
        "def OptSearch(a,x):\n",
        "    a.append(x)\n",
        "    return a.index(x)\n",
        "# compare the time to execute\n",
        "import time\n",
        "def compare(a,x):\n",
        "  result=[]\n",
        "  for i in range (10):\n",
        "    ResultEach=[]\n",
        "    # search's time\n",
        "    BeginS=time.time()\n",
        "    AnsS= Search(a,x[i])\n",
        "    EndS=time.time()\n",
        "    # OptSearch's time\n",
        "    BeginOS=time.time()\n",
        "    AnsOS= OptSearch(a,x[i])\n",
        "    EndOS= time.time()\n",
        "    # get the result of each\n",
        "    ResultEach.append(EndS-BeginS)\n",
        "    ResultEach.append(EndOS-BeginOS)\n",
        "    ResultEach.append((EndS-BeginS)-(EndOS-BeginOS))\n",
        "    result.append(ResultEach)\n",
        "  return result\n",
        "\n",
        "def Table (result,x):\n",
        "  table=[None]*10\n",
        "  for i in range (10):\n",
        "      table[i]=[x[i],result[i][0],result[i][1],result[i][2]]\n",
        "  return table\n",
        "from tabulate import tabulate\n",
        "A=datas()\n",
        "k=TestNum()\n",
        "result=compare(A,k)\n",
        "table=Table(result,k)\n",
        "headers=[\"test num\",'search','optSearch','different']\n",
        "#print (str(A),\" \")\n",
        "print(tabulate(table, headers, tablefmt='orgtbl'))"
      ],
      "execution_count": 0,
      "outputs": [
        {
          "output_type": "stream",
          "text": [
            "|   test num |     search |   optSearch |   different |\n",
            "|------------+------------+-------------+-------------|\n",
            "|      34755 | 0.0268266  |  0.0061996  |  0.020627   |\n",
            "|     713534 | 0.0543439  |  0.01684    |  0.037504   |\n",
            "|     958075 | 0.0181317  |  0.00436473 |  0.013767   |\n",
            "|     444464 | 0.00655365 |  0.00203419 |  0.00451946 |\n",
            "|     478433 | 0.0435886  |  0.0143349  |  0.0292537  |\n",
            "|     917176 | 0.052289   |  0.0132277  |  0.0390613  |\n",
            "|     217175 | 0.02226    |  0.00649095 |  0.015769   |\n",
            "|     379056 | 0.0541036  |  0.0167828  |  0.0373209  |\n",
            "|     685783 | 0.0542185  |  0.0164688  |  0.0377498  |\n",
            "|     948078 | 0.0517485  |  0.0138273  |  0.0379212  |\n"
          ],
          "name": "stdout"
        }
      ]
    }
  ]
}