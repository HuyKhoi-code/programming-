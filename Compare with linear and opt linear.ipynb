{
  "nbformat": 4,
  "nbformat_minor": 0,
  "metadata": {
    "colab": {
      "name": "Untitled1.ipynb",
      "provenance": [],
      "authorship_tag": "ABX9TyP+VLgxKfhjOba61nIevRh4",
      "include_colab_link": true
    },
    "kernelspec": {
      "name": "python3",
      "display_name": "Python 3"
    },
    "accelerator": "GPU"
  },
  "cells": [
    {
      "cell_type": "markdown",
      "metadata": {
        "id": "view-in-github",
        "colab_type": "text"
      },
      "source": [
        "<a href=\"https://colab.research.google.com/github/HuyKhoi-code/programming-/blob/master/Compare%20with%20linear%20and%20opt%20linear.ipynb\" target=\"_parent\"><img src=\"https://colab.research.google.com/assets/colab-badge.svg\" alt=\"Open In Colab\"/></a>"
      ]
    },
    {
      "cell_type": "code",
      "metadata": {
        "id": "7mWOe1QveV2W",
        "colab_type": "code",
        "colab": {
          "base_uri": "https://localhost:8080/",
          "height": 221
        },
        "outputId": "d970e8cf-9bac-4ec9-83ff-f8707cd846fc"
      },
      "source": [
        "import random as rd\n",
        "# make arr datasets\n",
        "def datas():\n",
        "  a=[]\n",
        "  while (len(a)<10**6):\n",
        "    a.append(rd.randint(0,10**6))\n",
        "  return a\n",
        "# test number \n",
        "def TestNum():\n",
        "  x=[]\n",
        "  while (len(x)<10):\n",
        "    n=rd.randint(0,10**6)\n",
        "    if (n not in x):\n",
        "      x.append(n)\n",
        "  return x\n",
        "# Normal search\n",
        "def Search(a,x):\n",
        "  for i in range (len(a)):\n",
        "    if (a[i]==x):\n",
        "      return i\n",
        "  return -1\n",
        "# optimize search\n",
        "def OptSearch(a,x):\n",
        "   pos=0\n",
        "   n=len(a)\n",
        "   a.append(x)\n",
        "   while (a[pos]!=x):\n",
        "     pos+=1\n",
        "   if (pos<n):\n",
        "     return pos\n",
        "   else:\n",
        "     return -1\n",
        "# compare the time to execute\n",
        "import time\n",
        "def compare(a,x):\n",
        "  result=[]\n",
        "  for i in range (10):\n",
        "    ResultEach=[]\n",
        "    # search's time\n",
        "    BeginS=time.time()\n",
        "    AnsS= Search(a,x[i])\n",
        "    EndS=time.time()\n",
        "    # OptSearch's time\n",
        "    BeginOS=time.time()\n",
        "    AnsOS= OptSearch(a,x[i])\n",
        "    EndOS= time.time()\n",
        "    # get the result of each\n",
        "    ResultEach.append(EndS-BeginS)\n",
        "    ResultEach.append(EndOS-BeginOS)\n",
        "    ResultEach.append((EndOS-BeginOS)-(EndS-BeginS))\n",
        "    result.append(ResultEach)\n",
        "  return result\n",
        "\n",
        "def Table (result,x):\n",
        "  table=[None]*10\n",
        "  for i in range (10):\n",
        "      table[i]=[x[i],result[i][0],result[i][1],result[i][2]]\n",
        "  return table\n",
        "from tabulate import tabulate\n",
        "A=datas()\n",
        "k=TestNum()\n",
        "result=compare(A,k)\n",
        "table=Table(result,k)\n",
        "headers=[\"test num\",'search','optSearch','different']\n",
        "#print (str(A),\" \")\n",
        "print(tabulate(table, headers, tablefmt='orgtbl'))"
      ],
      "execution_count": 4,
      "outputs": [
        {
          "output_type": "stream",
          "text": [
            "|   test num |    search |   optSearch |   different |\n",
            "|------------+-----------+-------------+-------------|\n",
            "|     555249 | 0.0590556 |   0.0802569 |  0.0212014  |\n",
            "|     368473 | 0.0599885 |   0.0827827 |  0.0227942  |\n",
            "|     893074 | 0.0083797 |   0.0101607 |  0.00178099 |\n",
            "|      93210 | 0.0349782 |   0.0428548 |  0.00787663 |\n",
            "|     414412 | 0.0220499 |   0.0258048 |  0.00375485 |\n",
            "|      84496 | 0.0534952 |   0.0634563 |  0.00996113 |\n",
            "|     140370 | 0.0526056 |   0.0629046 |  0.010299   |\n",
            "|     441317 | 0.0158923 |   0.0188825 |  0.00299025 |\n",
            "|     343034 | 0.055269  |   0.0701175 |  0.0148485  |\n",
            "|     894263 | 0.0556803 |   0.0642967 |  0.00861645 |\n"
          ],
          "name": "stdout"
        }
      ]
    }
  ]
}