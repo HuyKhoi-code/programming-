{
  "nbformat": 4,
  "nbformat_minor": 0,
  "metadata": {
    "colab": {
      "name": "Untitled",
      "provenance": [],
      "authorship_tag": "ABX9TyMfcyUuXecxKG6Go1IoiIyw",
      "include_colab_link": true
    },
    "kernelspec": {
      "name": "python3",
      "display_name": "Python 3"
    }
  },
  "cells": [
    {
      "cell_type": "markdown",
      "metadata": {
        "id": "view-in-github",
        "colab_type": "text"
      },
      "source": [
        "<a href=\"https://colab.research.google.com/github/HuyKhoi-code/programming-/blob/master/find%203%20prime%20with%20given%20sum.ipynb\" target=\"_parent\"><img src=\"https://colab.research.google.com/assets/colab-badge.svg\" alt=\"Open In Colab\"/></a>"
      ]
    },
    {
      "cell_type": "code",
      "metadata": {
        "id": "V5k5OOEa52bz",
        "colab_type": "code",
        "outputId": "56f1eaa8-9084-4513-d69a-5ab915fa0968",
        "colab": {
          "base_uri": "https://localhost:8080/",
          "height": 119
        }
      },
      "source": [
        "\n",
        "import time \n",
        "Begin=time.time()\n",
        "# gennerate the Sieve Of Eratosthenes\n",
        "def Eratosthenes(n,check):\n",
        "  for i in range (2,n+1):\n",
        "    check[i]=True\n",
        "  p=2\n",
        "  while(p*p<=n):\n",
        "    if (check[p]==True):\n",
        "      i=p*p\n",
        "      while (i<=n):\n",
        "        check[i]= False\n",
        "        i+=p\n",
        "    p+=1\n",
        "# get the prime pair which sum = n-x\n",
        "def PrimePair (n):\n",
        "  check=[0]*(n+1)\n",
        "  Eratosthenes(n,check)\n",
        "  for i in range (0,n):\n",
        "      if (check[i] and check[n-i]):\n",
        "        print ('y= ',i)\n",
        "        print (\"z= \", n-i) \n",
        "        return \n",
        "import random as rd\n",
        "n=rd.randint(5,5000)\n",
        "print ('n= ',n)\n",
        "x=3\n",
        "if (n%2==0):\n",
        "  x=2\n",
        "num=n-x\n",
        "print ('x= ',x)\n",
        "PrimePair(num)\n",
        "End=time.time()\n",
        "# print time\n",
        "print (\"Time to process the program: \",End-Begin,\"s\")\n",
        "#calculate memory\n",
        "import os\n",
        "import psutil\n",
        "process = psutil.Process(os.getpid())\n",
        "print(\"memory used: \",(process.memory_info().rss)/10**6,\"MB\")"
      ],
      "execution_count": 10,
      "outputs": [
        {
          "output_type": "stream",
          "text": [
            "n=  4261\n",
            "x=  3\n",
            "y=  5\n",
            "z=  4253\n",
            "Time to process the program:  0.0065462589263916016 s\n",
            "memory used:  164.954112 MB\n"
          ],
          "name": "stdout"
        }
      ]
    }
  ]
}